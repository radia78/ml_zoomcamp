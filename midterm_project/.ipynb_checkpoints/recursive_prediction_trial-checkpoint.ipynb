{
 "cells": [
  {
   "cell_type": "code",
   "execution_count": 7,
   "id": "6381a649",
   "metadata": {},
   "outputs": [],
   "source": [
    "from datetime import datetime\n",
    "import pandas_datareader.data as web\n",
    "from sklearn.preprocessing import MinMaxScaler\n",
    "import pandas as pd\n",
    "import numpy as np\n",
    "import xgboost as xgb\n",
    "%matplotlib inline"
   ]
  },
  {
   "cell_type": "code",
   "execution_count": 8,
   "id": "08c7ec82",
   "metadata": {},
   "outputs": [
    {
     "name": "stderr",
     "output_type": "stream",
     "text": [
      "/tmp/ipykernel_83/3322242744.py:9: SettingWithCopyWarning: \n",
      "A value is trying to be set on a copy of a slice from a DataFrame.\n",
      "Try using .loc[row_indexer,col_indexer] = value instead\n",
      "\n",
      "See the caveats in the documentation: https://pandas.pydata.org/pandas-docs/stable/user_guide/indexing.html#returning-a-view-versus-a-copy\n",
      "  price ['Lag {0}'.format(i)] = price['Adj Close'].shift(i)\n",
      "/tmp/ipykernel_83/3322242744.py:9: SettingWithCopyWarning: \n",
      "A value is trying to be set on a copy of a slice from a DataFrame.\n",
      "Try using .loc[row_indexer,col_indexer] = value instead\n",
      "\n",
      "See the caveats in the documentation: https://pandas.pydata.org/pandas-docs/stable/user_guide/indexing.html#returning-a-view-versus-a-copy\n",
      "  price ['Lag {0}'.format(i)] = price['Adj Close'].shift(i)\n",
      "/tmp/ipykernel_83/3322242744.py:9: SettingWithCopyWarning: \n",
      "A value is trying to be set on a copy of a slice from a DataFrame.\n",
      "Try using .loc[row_indexer,col_indexer] = value instead\n",
      "\n",
      "See the caveats in the documentation: https://pandas.pydata.org/pandas-docs/stable/user_guide/indexing.html#returning-a-view-versus-a-copy\n",
      "  price ['Lag {0}'.format(i)] = price['Adj Close'].shift(i)\n",
      "/tmp/ipykernel_83/3322242744.py:9: SettingWithCopyWarning: \n",
      "A value is trying to be set on a copy of a slice from a DataFrame.\n",
      "Try using .loc[row_indexer,col_indexer] = value instead\n",
      "\n",
      "See the caveats in the documentation: https://pandas.pydata.org/pandas-docs/stable/user_guide/indexing.html#returning-a-view-versus-a-copy\n",
      "  price ['Lag {0}'.format(i)] = price['Adj Close'].shift(i)\n"
     ]
    }
   ],
   "source": [
    "# Load-in the datasets for the stock\n",
    "df = web.DataReader('AAPL', 'yahoo', start='2016-10-28', end='2022-10-28')\n",
    "\n",
    "# Only save the adjusted close data\n",
    "price = df[['Adj Close']]\n",
    "\n",
    "# Loop over the prices \n",
    "for i in range(1, 15):\n",
    "    price ['Lag {0}'.format(i)] = price['Adj Close'].shift(i)\n",
    "\n",
    "price.dropna(inplace=True)"
   ]
  },
  {
   "cell_type": "code",
   "execution_count": 23,
   "id": "827c7e39",
   "metadata": {},
   "outputs": [],
   "source": [
    "from sklearn.preprocessing import MinMaxScaler\n",
    "\n",
    "# Split the data train/dev/test ~ 70/30\n",
    "n = len(price)\n",
    "test_size = int(np.floor(n*0.3))\n",
    "train = price.iloc[:(n-test_size)]\n",
    "test = price.iloc[(n-test_size):]\n",
    "\n",
    "# Declare the scaler\n",
    "scaler = MinMaxScaler()\n",
    "\n",
    "# Split feature from target\n",
    "feature = price.columns[1:]\n",
    "target = price.columns[0]\n",
    "\n",
    "Xtr = scaler.fit_transform(train[feature])\n",
    "ytr = scaler.fit_transform(np.array(train[target]).reshape(-1, 1))\n",
    "\n",
    "Xts = scaler.fit_transform(test[feature])[0]\n",
    "yts = scaler.fit_transform(np.array(test[target]).reshape(-1, 1))"
   ]
  },
  {
   "cell_type": "code",
   "execution_count": 12,
   "id": "0b39b80d",
   "metadata": {},
   "outputs": [],
   "source": [
    "from sklearn.metrics import mean_absolute_percentage_error, mean_absolute_error\n",
    "\n",
    "# Feed the test data into the Dmatrix\n",
    "Dtr = xgb.DMatrix(Xtr, label=ytr)\n",
    "\n",
    "# Train the model with the following hyperparameters\n",
    "best_params = {\n",
    "    \n",
    "    'verbosity': 0,\n",
    "    'eta': 0.01,\n",
    "    'objective': 'reg:squarederror',\n",
    "    'eval_metric': 'rmse',\n",
    "    'lambda': 0.0006189810211089072,\n",
    "    'alpha': 0.03464670599128434,\n",
    "    'gamma': 0.0,\n",
    "    'max_depth': 1,\n",
    "    'seed': 0\n",
    "}"
   ]
  },
  {
   "cell_type": "code",
   "execution_count": 13,
   "id": "ef9a438d",
   "metadata": {},
   "outputs": [],
   "source": [
    "# Train the model\n",
    "best_model = xgb.train(best_params, Dtr, num_boost_round=1000)"
   ]
  },
  {
   "cell_type": "code",
   "execution_count": 83,
   "id": "04aa6fd5",
   "metadata": {},
   "outputs": [],
   "source": [
    "# Create the predict function\n",
    "def predict(model, today_data, scaler):\n",
    "    \n",
    "    # Create an empty prediction list\n",
    "    preds = []\n",
    "    \n",
    "    # Initialize the data\n",
    "    x = today_data.reshape(1, 14)\n",
    "    \n",
    "    # For loop this for the 21 day forecasting horizon\n",
    "    for i in range(21):\n",
    "        \n",
    "        # Input data into DMatrix\n",
    "        input_data = xgb.DMatrix(x)\n",
    "        \n",
    "        # Predict the outcome using today's data\n",
    "        pred = model.predict(input_data)\n",
    "    \n",
    "        # Inverse the transformation\n",
    "        y = scaler.inverse_transform(pred.reshape(-1, 1))\n",
    "        \n",
    "        # Append the prediction into the list\n",
    "        preds.append(y)\n",
    "        \n",
    "        # Update the input data\n",
    "        x = np.insert(x, 0, pred)[:14].reshape(1, 14)\n",
    "        \n",
    "    # Turn the prediction into a numpy array\n",
    "    preds = np.array(preds).reshape(21, )\n",
    "        \n",
    "    \n",
    "    return preds"
   ]
  },
  {
   "cell_type": "code",
   "execution_count": 84,
   "id": "96eaab8d",
   "metadata": {},
   "outputs": [],
   "source": [
    "k = predict(best_model, Xts, scaler)"
   ]
  },
  {
   "cell_type": "code",
   "execution_count": 87,
   "id": "cd32dbbf",
   "metadata": {},
   "outputs": [
    {
     "data": {
      "text/plain": [
       "Date\n",
       "2021-01-20    130.463852\n",
       "2021-01-21    135.246445\n",
       "2021-01-22    137.420364\n",
       "2021-01-25    141.224670\n",
       "2021-01-26    141.461853\n",
       "2021-01-27    140.374893\n",
       "2021-01-28    135.463837\n",
       "2021-01-29    130.394714\n",
       "2021-02-01    132.548828\n",
       "2021-02-02    133.388779\n",
       "2021-02-03    132.351227\n",
       "2021-02-04    135.760284\n",
       "2021-02-05    135.339706\n",
       "2021-02-08    135.488144\n",
       "2021-02-09    134.597473\n",
       "2021-02-10    133.983917\n",
       "2021-02-11    133.726639\n",
       "2021-02-12    133.964157\n",
       "2021-02-16    131.806778\n",
       "2021-02-17    129.481171\n",
       "2021-02-18    128.362915\n",
       "Name: Adj Close, dtype: float64"
      ]
     },
     "execution_count": 87,
     "metadata": {},
     "output_type": "execute_result"
    }
   ],
   "source": [
    "np.array(test['Adj Close'].iloc[:21]"
   ]
  }
 ],
 "metadata": {
  "kernelspec": {
   "display_name": "Python 3 (ipykernel)",
   "language": "python",
   "name": "python3"
  },
  "language_info": {
   "codemirror_mode": {
    "name": "ipython",
    "version": 3
   },
   "file_extension": ".py",
   "mimetype": "text/x-python",
   "name": "python",
   "nbconvert_exporter": "python",
   "pygments_lexer": "ipython3",
   "version": "3.10.4"
  }
 },
 "nbformat": 4,
 "nbformat_minor": 5
}
