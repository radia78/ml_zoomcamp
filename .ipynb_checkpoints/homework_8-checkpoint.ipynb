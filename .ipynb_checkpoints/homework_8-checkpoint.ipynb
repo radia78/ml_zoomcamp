{
 "cells": [
  {
   "cell_type": "markdown",
   "id": "943c5663-99e0-487c-9f9a-5f0eb7d81c10",
   "metadata": {},
   "source": [
    "# Homework 8"
   ]
  },
  {
   "cell_type": "code",
   "execution_count": 9,
   "id": "36ab15b6-6e24-42a6-8349-50537261689d",
   "metadata": {
    "execution": {
     "iopub.execute_input": "2022-11-18T01:11:50.973160Z",
     "iopub.status.busy": "2022-11-18T01:11:50.972775Z",
     "iopub.status.idle": "2022-11-18T01:11:50.976538Z",
     "shell.execute_reply": "2022-11-18T01:11:50.975854Z",
     "shell.execute_reply.started": "2022-11-18T01:11:50.973135Z"
    },
    "tags": []
   },
   "outputs": [],
   "source": [
    "import tensorflow as tf\n",
    "import numpy as np\n",
    "import matplotlib.pyplot as plt"
   ]
  },
  {
   "cell_type": "markdown",
   "id": "01f6dd8b-cdcb-44c7-ad46-f21249277bd9",
   "metadata": {},
   "source": [
    "### Prepare the data"
   ]
  },
  {
   "cell_type": "code",
   "execution_count": 43,
   "id": "2343ed69-f966-44e2-b27a-5aa14aba03fb",
   "metadata": {
    "execution": {
     "iopub.execute_input": "2022-11-18T01:55:02.830199Z",
     "iopub.status.busy": "2022-11-18T01:55:02.829803Z",
     "iopub.status.idle": "2022-11-18T01:55:02.895501Z",
     "shell.execute_reply": "2022-11-18T01:55:02.894736Z",
     "shell.execute_reply.started": "2022-11-18T01:55:02.830173Z"
    },
    "tags": []
   },
   "outputs": [
    {
     "name": "stdout",
     "output_type": "stream",
     "text": [
      "Found 1594 images belonging to 2 classes.\n",
      "Found 394 images belonging to 2 classes.\n"
     ]
    }
   ],
   "source": [
    "# Define the function to load images\n",
    "\n",
    "from tensorflow.keras.preprocessing.image import ImageDataGenerator\n",
    "\n",
    "def setup_img(img_dir, target_size, batch_size, shuffle):\n",
    "    \n",
    "    # Create image data generator instance\n",
    "    generator = ImageDataGenerator(rescale=1./255)\n",
    "    \n",
    "    # Create the batches of images\n",
    "    img_ds = generator.flow_from_directory(\n",
    "        img_dir, \n",
    "        target_size=target_size,\n",
    "        batch_size= batch_size,\n",
    "        shuffle=shuffle,\n",
    "        class_mode='binary'\n",
    "    )\n",
    "    \n",
    "    return img_ds\n",
    "\n",
    "# Create the training dataset\n",
    "train_ds = setup_img('train', (150, 150), 20, True)\n",
    "\n",
    "# Create the testing dataset\n",
    "test_ds = setup_img('test', (150, 150), 20, True)\n"
   ]
  },
  {
   "cell_type": "markdown",
   "id": "fcb15b1e-7086-41f2-a62e-19a4ddc5177c",
   "metadata": {},
   "source": [
    "### Create Model"
   ]
  },
  {
   "cell_type": "code",
   "execution_count": 31,
   "id": "d94b57c7-7b76-4598-811a-3dc0800a46e4",
   "metadata": {
    "execution": {
     "iopub.execute_input": "2022-11-18T01:37:55.046356Z",
     "iopub.status.busy": "2022-11-18T01:37:55.045969Z",
     "iopub.status.idle": "2022-11-18T01:37:55.051816Z",
     "shell.execute_reply": "2022-11-18T01:37:55.051074Z",
     "shell.execute_reply.started": "2022-11-18T01:37:55.046329Z"
    },
    "tags": []
   },
   "outputs": [],
   "source": [
    "from tensorflow.keras.layers import Conv2D, MaxPool2D, Flatten, Dense\n",
    "\n",
    "# Create the model\n",
    "def conv_model(input_shape):\n",
    "    \n",
    "    # Create input image\n",
    "    inputs = tf.keras.Input(shape=input_shape)\n",
    "    \n",
    "    # First layer of Conv2D\n",
    "    x = Conv2D(\n",
    "        filters=32,\n",
    "        kernel_size=(3,3),\n",
    "        activation='relu',\n",
    "        input_shape=input_shape\n",
    "    )(inputs)\n",
    "    \n",
    "    # Maxpooling layer\n",
    "    x = MaxPool2D(\n",
    "        pool_size=(2, 2)\n",
    "    )(x)\n",
    "    \n",
    "    # Flatten layer\n",
    "    x = Flatten()(x)\n",
    "    \n",
    "    # Dense layer\n",
    "    x = Dense(64, activation='relu')(x)\n",
    "    \n",
    "    # Output layer\n",
    "    output_layer = Dense(1, activation='sigmoid')(x)\n",
    "    \n",
    "    # Compile the model\n",
    "    model = tf.keras.Model(inputs=inputs, outputs=output_layer, name='ml_zoomcamp_model')\n",
    "    \n",
    "    return model"
   ]
  },
  {
   "cell_type": "code",
   "execution_count": 33,
   "id": "2141749e-8014-4a2d-a8d7-e9c12823a746",
   "metadata": {
    "execution": {
     "iopub.execute_input": "2022-11-18T01:38:12.092512Z",
     "iopub.status.busy": "2022-11-18T01:38:12.092116Z",
     "iopub.status.idle": "2022-11-18T01:38:12.137283Z",
     "shell.execute_reply": "2022-11-18T01:38:12.136519Z",
     "shell.execute_reply.started": "2022-11-18T01:38:12.092486Z"
    },
    "tags": []
   },
   "outputs": [
    {
     "name": "stdout",
     "output_type": "stream",
     "text": [
      "Model: \"ml_zoomcamp_model\"\n",
      "_________________________________________________________________\n",
      " Layer (type)                Output Shape              Param #   \n",
      "=================================================================\n",
      " input_3 (InputLayer)        [(None, 150, 150, 3)]     0         \n",
      "                                                                 \n",
      " conv2d_2 (Conv2D)           (None, 148, 148, 32)      896       \n",
      "                                                                 \n",
      " max_pooling2d_2 (MaxPooling  (None, 74, 74, 32)       0         \n",
      " 2D)                                                             \n",
      "                                                                 \n",
      " flatten_2 (Flatten)         (None, 175232)            0         \n",
      "                                                                 \n",
      " dense_4 (Dense)             (None, 64)                11214912  \n",
      "                                                                 \n",
      " dense_5 (Dense)             (None, 1)                 65        \n",
      "                                                                 \n",
      "=================================================================\n",
      "Total params: 11,215,873\n",
      "Trainable params: 11,215,873\n",
      "Non-trainable params: 0\n",
      "_________________________________________________________________\n"
     ]
    }
   ],
   "source": [
    "model = conv_model((150, 150, 3))\n",
    "\n",
    "# Find the number of parameters\n",
    "model.summary()"
   ]
  },
  {
   "cell_type": "markdown",
   "id": "f2d800a0-96f9-417f-bbfd-7cff92266700",
   "metadata": {},
   "source": [
    "### Train the Model"
   ]
  },
  {
   "cell_type": "code",
   "execution_count": 63,
   "id": "66e6f9e8-2fdc-4420-87cb-65a4c21b2256",
   "metadata": {
    "execution": {
     "iopub.execute_input": "2022-11-18T02:44:37.449155Z",
     "iopub.status.busy": "2022-11-18T02:44:37.448750Z",
     "iopub.status.idle": "2022-11-18T02:44:37.454030Z",
     "shell.execute_reply": "2022-11-18T02:44:37.453206Z",
     "shell.execute_reply.started": "2022-11-18T02:44:37.449130Z"
    },
    "tags": []
   },
   "outputs": [],
   "source": [
    "# Define the training function\n",
    "\n",
    "def train_model(model, optimizer, loss, metrics, train_ds, batch_size, epochs, with_validation=False, test_ds=None):\n",
    "    \n",
    "    # Compile model with the correct loss, optimizer, and metric\n",
    "    model.compile(\n",
    "        loss=loss,\n",
    "        optimizer=optimizer,\n",
    "        metrics=metrics\n",
    "    )\n",
    "    \n",
    "    # Train with validation\n",
    "    if with_validation == True:\n",
    "        history = model.fit(train_ds, epochs=epochs, validation_data=test_ds)\n",
    "    \n",
    "    # Train the model with no validation\n",
    "    else:\n",
    "        history = model.fit(train_ds, epochs=epochs)\n",
    "    \n",
    "    return history\n",
    "    "
   ]
  },
  {
   "cell_type": "code",
   "execution_count": 50,
   "id": "b53cd5ab-ec72-449d-bca4-732a94465fb1",
   "metadata": {
    "execution": {
     "iopub.execute_input": "2022-11-18T01:57:39.212943Z",
     "iopub.status.busy": "2022-11-18T01:57:39.212558Z",
     "iopub.status.idle": "2022-11-18T01:58:49.234869Z",
     "shell.execute_reply": "2022-11-18T01:58:49.234215Z",
     "shell.execute_reply.started": "2022-11-18T01:57:39.212919Z"
    },
    "tags": []
   },
   "outputs": [
    {
     "name": "stdout",
     "output_type": "stream",
     "text": [
      "Epoch 1/10\n"
     ]
    },
    {
     "name": "stderr",
     "output_type": "stream",
     "text": [
      "2022-11-18 01:57:40.424710: I tensorflow/stream_executor/cuda/cuda_dnn.cc:384] Loaded cuDNN version 8100\n",
      "2022-11-18 01:57:41.068578: I tensorflow/core/platform/default/subprocess.cc:304] Start cannot spawn child process: No such file or directory\n",
      "2022-11-18 01:57:41.069578: I tensorflow/core/platform/default/subprocess.cc:304] Start cannot spawn child process: No such file or directory\n",
      "2022-11-18 01:57:41.069618: W tensorflow/stream_executor/gpu/asm_compiler.cc:80] Couldn't get ptxas version string: INTERNAL: Couldn't invoke ptxas --version\n",
      "2022-11-18 01:57:41.070558: I tensorflow/core/platform/default/subprocess.cc:304] Start cannot spawn child process: No such file or directory\n",
      "2022-11-18 01:57:41.070667: W tensorflow/stream_executor/gpu/redzone_allocator.cc:314] INTERNAL: Failed to launch ptxas\n",
      "Relying on driver to perform ptx compilation. \n",
      "Modify $PATH to customize ptxas location.\n",
      "This message will be only logged once.\n"
     ]
    },
    {
     "name": "stdout",
     "output_type": "stream",
     "text": [
      "80/80 [==============================] - 9s 83ms/step - loss: 0.6180 - accuracy: 0.6625\n",
      "Epoch 2/10\n",
      "80/80 [==============================] - 7s 84ms/step - loss: 0.4682 - accuracy: 0.8055\n",
      "Epoch 3/10\n",
      "80/80 [==============================] - 7s 85ms/step - loss: 0.4021 - accuracy: 0.8369\n",
      "Epoch 4/10\n",
      "80/80 [==============================] - 7s 84ms/step - loss: 0.3510 - accuracy: 0.8588\n",
      "Epoch 5/10\n",
      "80/80 [==============================] - 7s 83ms/step - loss: 0.3053 - accuracy: 0.8896\n",
      "Epoch 6/10\n",
      "80/80 [==============================] - 7s 84ms/step - loss: 0.2692 - accuracy: 0.8858\n",
      "Epoch 7/10\n",
      "80/80 [==============================] - 7s 84ms/step - loss: 0.2462 - accuracy: 0.9097\n",
      "Epoch 8/10\n",
      "80/80 [==============================] - 7s 83ms/step - loss: 0.2332 - accuracy: 0.9178\n",
      "Epoch 9/10\n",
      "80/80 [==============================] - 7s 84ms/step - loss: 0.2112 - accuracy: 0.9235\n",
      "Epoch 10/10\n",
      "80/80 [==============================] - 7s 84ms/step - loss: 0.1684 - accuracy: 0.9473\n"
     ]
    }
   ],
   "source": [
    "# Train the model\n",
    "history = train_model(\n",
    "    model=model,\n",
    "    optimizer=tf.keras.optimizers.SGD(lr=0.002, momentum=0.8),\n",
    "    loss=tf.keras.losses.BinaryCrossentropy(),\n",
    "    metrics=['accuracy'],\n",
    "    train_ds=train_ds,\n",
    "    batch_size=20,\n",
    "    epochs=10  \n",
    ")"
   ]
  },
  {
   "cell_type": "markdown",
   "id": "8e19ff77-0cbb-414a-96f9-bcc49201a289",
   "metadata": {},
   "source": [
    "### Q3, Q4"
   ]
  },
  {
   "cell_type": "code",
   "execution_count": 58,
   "id": "8e29fe06-bd31-4f22-9474-f7208287a8a8",
   "metadata": {
    "execution": {
     "iopub.execute_input": "2022-11-18T02:05:14.641274Z",
     "iopub.status.busy": "2022-11-18T02:05:14.640819Z",
     "iopub.status.idle": "2022-11-18T02:05:14.646274Z",
     "shell.execute_reply": "2022-11-18T02:05:14.645621Z",
     "shell.execute_reply.started": "2022-11-18T02:05:14.641248Z"
    }
   },
   "outputs": [
    {
     "name": "stdout",
     "output_type": "stream",
     "text": [
      "Median training accuracy: 0.8877038955688477\n",
      "Standard deviation of loss: 0.12980510238129245\n"
     ]
    }
   ],
   "source": [
    "# Save the loss and accuracy into two variables; loss, \n",
    "loss = history.history['loss']\n",
    "acc = history.history['accuracy']\n",
    "\n",
    "print('Median training accuracy: {}'.format(np.median(acc)))\n",
    "print('Standard deviation of loss: {}'.format(np.std(loss)))"
   ]
  },
  {
   "cell_type": "markdown",
   "id": "1b9b2d85-a2a1-4f1b-aee3-af7fda9977e0",
   "metadata": {},
   "source": [
    "### Data Augmentation"
   ]
  },
  {
   "cell_type": "code",
   "execution_count": 59,
   "id": "19897f01-8eb2-48a6-af3a-01008b91c8fe",
   "metadata": {
    "execution": {
     "iopub.execute_input": "2022-11-18T02:29:57.232877Z",
     "iopub.status.busy": "2022-11-18T02:29:57.232468Z",
     "iopub.status.idle": "2022-11-18T02:29:57.237751Z",
     "shell.execute_reply": "2022-11-18T02:29:57.237087Z",
     "shell.execute_reply.started": "2022-11-18T02:29:57.232852Z"
    }
   },
   "outputs": [],
   "source": [
    "# Create the data augmentation function\n",
    "def augment_img(img_dir, target_size, batch_size, shuffle, params):\n",
    "    \n",
    "    # Create image data generator instance\n",
    "    generator = ImageDataGenerator(\n",
    "        rescale=1./255,\n",
    "        rotation_range=params['rotation_range'],\n",
    "        width_shift_range=params['width_shift_range'],\n",
    "        height_shift_range=params['height_shift_range'],\n",
    "        shear_range=params['shear_range'],\n",
    "        zoom_range=params['zoom_range'],\n",
    "        horizontal_flip=params['horizontal_flip'],\n",
    "        fill_mode=params['fill_mode']\n",
    "    )\n",
    "    \n",
    "    # Create the batches of images\n",
    "    img_ds = generator.flow_from_directory(\n",
    "        img_dir, \n",
    "        target_size=target_size,\n",
    "        batch_size= batch_size,\n",
    "        shuffle=shuffle,\n",
    "        class_mode='binary'\n",
    "    )\n",
    "    \n",
    "    return img_ds"
   ]
  },
  {
   "cell_type": "code",
   "execution_count": 61,
   "id": "cf418dff-56e4-439d-9675-a1aaa4effb8a",
   "metadata": {
    "execution": {
     "iopub.execute_input": "2022-11-18T02:34:38.203167Z",
     "iopub.status.busy": "2022-11-18T02:34:38.202767Z",
     "iopub.status.idle": "2022-11-18T02:34:38.254780Z",
     "shell.execute_reply": "2022-11-18T02:34:38.254147Z",
     "shell.execute_reply.started": "2022-11-18T02:34:38.203142Z"
    },
    "tags": []
   },
   "outputs": [
    {
     "name": "stdout",
     "output_type": "stream",
     "text": [
      "Found 1594 images belonging to 2 classes.\n"
     ]
    }
   ],
   "source": [
    "# Create the data augmentation parameters\n",
    "params = {\n",
    "    'rotation_range': 40,\n",
    "    'width_shift_range': 0.2,\n",
    "    'height_shift_range': 0.2,\n",
    "    'shear_range': 0.2,\n",
    "    'zoom_range': 0.2,\n",
    "    'horizontal_flip': True,\n",
    "    'fill_mode': 'nearest'\n",
    "}\n",
    "\n",
    "# Create the data augmentation dataset\n",
    "train_aug_ds = augment_img(\n",
    "    img_dir='train',\n",
    "    target_size=(150, 150),\n",
    "    batch_size=20,\n",
    "    shuffle=True,\n",
    "    params=params\n",
    ")"
   ]
  },
  {
   "cell_type": "code",
   "execution_count": 64,
   "id": "e439b1f6-e4e2-4722-88c7-b9a638c04e03",
   "metadata": {
    "execution": {
     "iopub.execute_input": "2022-11-18T02:45:19.034085Z",
     "iopub.status.busy": "2022-11-18T02:45:19.033691Z",
     "iopub.status.idle": "2022-11-18T02:47:49.593890Z",
     "shell.execute_reply": "2022-11-18T02:47:49.593204Z",
     "shell.execute_reply.started": "2022-11-18T02:45:19.034060Z"
    },
    "tags": []
   },
   "outputs": [
    {
     "name": "stdout",
     "output_type": "stream",
     "text": [
      "Epoch 1/10\n",
      "80/80 [==============================] - 16s 191ms/step - loss: 0.3194 - accuracy: 0.8701 - val_loss: 0.6779 - val_accuracy: 0.7437\n",
      "Epoch 2/10\n",
      "80/80 [==============================] - 15s 186ms/step - loss: 0.3455 - accuracy: 0.8457 - val_loss: 0.2658 - val_accuracy: 0.8883\n",
      "Epoch 3/10\n",
      "80/80 [==============================] - 15s 186ms/step - loss: 0.3211 - accuracy: 0.8670 - val_loss: 0.2902 - val_accuracy: 0.8807\n",
      "Epoch 4/10\n",
      "80/80 [==============================] - 15s 187ms/step - loss: 0.3149 - accuracy: 0.8764 - val_loss: 0.3443 - val_accuracy: 0.8680\n",
      "Epoch 5/10\n",
      "80/80 [==============================] - 15s 189ms/step - loss: 0.3061 - accuracy: 0.8651 - val_loss: 0.3414 - val_accuracy: 0.8756\n",
      "Epoch 6/10\n",
      "80/80 [==============================] - 15s 187ms/step - loss: 0.3176 - accuracy: 0.8733 - val_loss: 0.5448 - val_accuracy: 0.7995\n",
      "Epoch 7/10\n",
      "80/80 [==============================] - 15s 188ms/step - loss: 0.3071 - accuracy: 0.8676 - val_loss: 0.4665 - val_accuracy: 0.8046\n",
      "Epoch 8/10\n",
      "80/80 [==============================] - 15s 187ms/step - loss: 0.3017 - accuracy: 0.8720 - val_loss: 0.4914 - val_accuracy: 0.8071\n",
      "Epoch 9/10\n",
      "80/80 [==============================] - 15s 186ms/step - loss: 0.3066 - accuracy: 0.8720 - val_loss: 0.7088 - val_accuracy: 0.7437\n",
      "Epoch 10/10\n",
      "80/80 [==============================] - 15s 187ms/step - loss: 0.3155 - accuracy: 0.8689 - val_loss: 0.4912 - val_accuracy: 0.8046\n"
     ]
    }
   ],
   "source": [
    "# Train the model with the augmented training data\n",
    "history_aug = train_model(\n",
    "    model=model,\n",
    "    optimizer=tf.keras.optimizers.SGD(lr=0.002, momentum=0.8),\n",
    "    loss=tf.keras.losses.BinaryCrossentropy(),\n",
    "    metrics=['accuracy'],\n",
    "    train_ds=train_aug_ds,\n",
    "    batch_size=20,\n",
    "    epochs=10,\n",
    "    with_validation=True,\n",
    "    test_ds=test_ds\n",
    ")"
   ]
  },
  {
   "cell_type": "markdown",
   "id": "4263d63f-4a3d-4464-87e7-27f1ad9061a2",
   "metadata": {},
   "source": [
    "### Q5, Q6"
   ]
  },
  {
   "cell_type": "code",
   "execution_count": 71,
   "id": "0f6fbd56-f869-4981-8e49-bf4c980aec54",
   "metadata": {
    "execution": {
     "iopub.execute_input": "2022-11-18T02:55:41.988853Z",
     "iopub.status.busy": "2022-11-18T02:55:41.988443Z",
     "iopub.status.idle": "2022-11-18T02:55:41.994094Z",
     "shell.execute_reply": "2022-11-18T02:55:41.993272Z",
     "shell.execute_reply.started": "2022-11-18T02:55:41.988827Z"
    },
    "tags": []
   },
   "outputs": [
    {
     "name": "stdout",
     "output_type": "stream",
     "text": [
      "Mean test loss for all epochs: 0.46223168075084686\n",
      "Mean test loss for last 5 epochs: 0.7899746298789978\n"
     ]
    }
   ],
   "source": [
    "# Save the losses and accuracy to variables\n",
    "loss_aug = history_aug.history['loss']\n",
    "test_loss_aug = history_aug.history['val_loss']\n",
    "acc_aug = history_aug.history['accuracy']\n",
    "test_acc_aug = history_aug.history['val_accuracy']\n",
    "\n",
    "print(\"Mean test loss for all epochs: {}\".format(np.mean(test_loss_aug)))\n",
    "print(\"Mean test loss for last 5 epochs: {}\".format(np.mean(test_acc_aug[6:])))"
   ]
  }
 ],
 "metadata": {
  "kernelspec": {
   "display_name": "saturn (Python 3)",
   "language": "python",
   "name": "python3"
  },
  "language_info": {
   "codemirror_mode": {
    "name": "ipython",
    "version": 3
   },
   "file_extension": ".py",
   "mimetype": "text/x-python",
   "name": "python",
   "nbconvert_exporter": "python",
   "pygments_lexer": "ipython3",
   "version": "3.9.13"
  }
 },
 "nbformat": 4,
 "nbformat_minor": 5
}
