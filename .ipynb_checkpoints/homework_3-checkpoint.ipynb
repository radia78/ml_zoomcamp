{
 "cells": [
  {
   "cell_type": "markdown",
   "id": "2a474628",
   "metadata": {},
   "source": [
    "# Homework 3\n",
    "### Data Preparation"
   ]
  },
  {
   "cell_type": "code",
   "execution_count": 43,
   "id": "82d916a7",
   "metadata": {},
   "outputs": [],
   "source": [
    "import pandas as pd\n",
    "import numpy as np\n",
    "\n",
    "df = pd.read_csv('homework_data/housing.csv')"
   ]
  },
  {
   "cell_type": "code",
   "execution_count": 44,
   "id": "106ffe04",
   "metadata": {},
   "outputs": [],
   "source": [
    "# Select only the features\n",
    "df = df[[\n",
    "    'latitude', \n",
    "    'longitude', \n",
    "    'housing_median_age', \n",
    "    'total_rooms',\n",
    "    'total_bedrooms',\n",
    "    'population',\n",
    "    'households',\n",
    "    'median_income',\n",
    "    'median_house_value',\n",
    "    'ocean_proximity']]\n",
    "\n",
    "# Fill in the null values with zero\n",
    "df.fillna(0, inplace=True)\n",
    "\n",
    "# Create new columns\n",
    "df['rooms_per_household'] = df['total_rooms'].div(df['households'])\n",
    "df['bedrooms_per_room'] = df['total_bedrooms'].div(df['total_rooms'])\n",
    "df['population_per_household'] = df['population'].div(df['households'])"
   ]
  },
  {
   "cell_type": "markdown",
   "id": "31e07d1b",
   "metadata": {},
   "source": [
    "### Question 1"
   ]
  },
  {
   "cell_type": "code",
   "execution_count": 3,
   "id": "64d95382",
   "metadata": {},
   "outputs": [
    {
     "data": {
      "text/plain": [
       "0    <1H OCEAN\n",
       "Name: ocean_proximity, dtype: object"
      ]
     },
     "execution_count": 3,
     "metadata": {},
     "output_type": "execute_result"
    }
   ],
   "source": [
    "# Count the most frequent ocean_proximity\n",
    "df.ocean_proximity.mode()"
   ]
  },
  {
   "cell_type": "markdown",
   "id": "9cf9930c",
   "metadata": {},
   "source": [
    "### Question 2"
   ]
  },
  {
   "cell_type": "code",
   "execution_count": 4,
   "id": "3a837ce6",
   "metadata": {},
   "outputs": [
    {
     "name": "stdout",
     "output_type": "stream",
     "text": [
      "                          latitude  longitude  housing_median_age  \\\n",
      "latitude                  1.000000  -0.924664            0.011173   \n",
      "longitude                -0.924664   1.000000           -0.108197   \n",
      "housing_median_age        0.011173  -0.108197            1.000000   \n",
      "total_rooms              -0.036100   0.044568           -0.361262   \n",
      "total_bedrooms           -0.065318   0.068082           -0.317063   \n",
      "population               -0.108785   0.099773           -0.296244   \n",
      "households               -0.071035   0.055310           -0.302916   \n",
      "median_income            -0.079809  -0.015176           -0.119034   \n",
      "median_house_value       -0.144160  -0.045967            0.105623   \n",
      "rooms_per_household       0.106389  -0.027540           -0.153277   \n",
      "bedrooms_per_room        -0.104112   0.084836            0.125396   \n",
      "population_per_household  0.002366   0.002476            0.013191   \n",
      "\n",
      "                          total_rooms  total_bedrooms  population  households  \\\n",
      "latitude                    -0.036100       -0.065318   -0.108785   -0.071035   \n",
      "longitude                    0.044568        0.068082    0.099773    0.055310   \n",
      "housing_median_age          -0.361262       -0.317063   -0.296244   -0.302916   \n",
      "total_rooms                  1.000000        0.920196    0.857126    0.918484   \n",
      "total_bedrooms               0.920196        1.000000    0.866266    0.966507   \n",
      "population                   0.857126        0.866266    1.000000    0.907222   \n",
      "households                   0.918484        0.966507    0.907222    1.000000   \n",
      "median_income                0.198050       -0.007295    0.004834    0.013033   \n",
      "median_house_value           0.134153        0.049148   -0.024650    0.065843   \n",
      "rooms_per_household          0.133798        0.002717   -0.072213   -0.080598   \n",
      "bedrooms_per_room           -0.174583        0.122205    0.031397    0.059818   \n",
      "population_per_household    -0.024581       -0.028019    0.069863   -0.027309   \n",
      "\n",
      "                          median_income  median_house_value  \\\n",
      "latitude                      -0.079809           -0.144160   \n",
      "longitude                     -0.015176           -0.045967   \n",
      "housing_median_age            -0.119034            0.105623   \n",
      "total_rooms                    0.198050            0.134153   \n",
      "total_bedrooms                -0.007295            0.049148   \n",
      "population                     0.004834           -0.024650   \n",
      "households                     0.013033            0.065843   \n",
      "median_income                  1.000000            0.688075   \n",
      "median_house_value             0.688075            1.000000   \n",
      "rooms_per_household            0.326895            0.151948   \n",
      "bedrooms_per_room             -0.573836           -0.238759   \n",
      "population_per_household       0.018766           -0.023737   \n",
      "\n",
      "                          rooms_per_household  bedrooms_per_room  \\\n",
      "latitude                             0.106389          -0.104112   \n",
      "longitude                           -0.027540           0.084836   \n",
      "housing_median_age                  -0.153277           0.125396   \n",
      "total_rooms                          0.133798          -0.174583   \n",
      "total_bedrooms                       0.002717           0.122205   \n",
      "population                          -0.072213           0.031397   \n",
      "households                          -0.080598           0.059818   \n",
      "median_income                        0.326895          -0.573836   \n",
      "median_house_value                   0.151948          -0.238759   \n",
      "rooms_per_household                  1.000000          -0.387465   \n",
      "bedrooms_per_room                   -0.387465           1.000000   \n",
      "population_per_household            -0.004852           0.003047   \n",
      "\n",
      "                          population_per_household  \n",
      "latitude                                  0.002366  \n",
      "longitude                                 0.002476  \n",
      "housing_median_age                        0.013191  \n",
      "total_rooms                              -0.024581  \n",
      "total_bedrooms                           -0.028019  \n",
      "population                                0.069863  \n",
      "households                               -0.027309  \n",
      "median_income                             0.018766  \n",
      "median_house_value                       -0.023737  \n",
      "rooms_per_household                      -0.004852  \n",
      "bedrooms_per_room                         0.003047  \n",
      "population_per_household                  1.000000  \n"
     ]
    }
   ],
   "source": [
    "# Correlation matrix of all numerical features\n",
    "corr_df = df.drop(columns='ocean_proximity').corr()\n",
    "print(corr_df)"
   ]
  },
  {
   "cell_type": "markdown",
   "id": "d79b34a5",
   "metadata": {},
   "source": [
    "Looking from the correlation matrix we see that total bedrooms and households have the highest correlation between each other."
   ]
  },
  {
   "cell_type": "code",
   "execution_count": 45,
   "id": "c343b8cc",
   "metadata": {},
   "outputs": [],
   "source": [
    "# Create binary variable\n",
    "df['above_average'] = df['median_house_value'].apply(lambda x: 1 if x > df.median_house_value.mean() else 0)"
   ]
  },
  {
   "cell_type": "code",
   "execution_count": 6,
   "id": "a794c386",
   "metadata": {},
   "outputs": [],
   "source": [
    "# Split data to 60/20/20 distribution\n",
    "from sklearn.model_selection import train_test_split\n",
    "\n",
    "df.drop(columns='median_house_value', inplace=True)\n",
    "X = df.drop(columns='above_average')\n",
    "y = df.above_average\n",
    "\n",
    "X_train, X_dev, y_train, y_dev = train_test_split(X, y, test_size=0.4, random_state=42)\n",
    "X_val, X_test, y_val, y_test = train_test_split(X_dev, y_dev, test_size=0.5, random_state=42)"
   ]
  },
  {
   "cell_type": "markdown",
   "id": "31eec609",
   "metadata": {},
   "source": [
    "### Question 3"
   ]
  },
  {
   "cell_type": "code",
   "execution_count": 7,
   "id": "d3e1e4f5",
   "metadata": {},
   "outputs": [
    {
     "name": "stdout",
     "output_type": "stream",
     "text": [
      "0.1\n"
     ]
    }
   ],
   "source": [
    "# Calculate mutual information\n",
    "from sklearn.metrics import mutual_info_score\n",
    "mi = mutual_info_score(X_train.ocean_proximity, y_train)\n",
    "print(round(mi, 2))"
   ]
  },
  {
   "cell_type": "markdown",
   "id": "7e7ba888",
   "metadata": {},
   "source": [
    "### Question 4"
   ]
  },
  {
   "cell_type": "code",
   "execution_count": 8,
   "id": "ea09cffc",
   "metadata": {},
   "outputs": [],
   "source": [
    "# Convert ocean_proximity using ohe\n",
    "from sklearn.feature_extraction import DictVectorizer\n",
    "\n",
    "# One and hot encode the ocean_proximity variable\n",
    "train_dicts = X_train.to_dict(orient='records')\n",
    "dv = DictVectorizer(sparse=False)\n",
    "X_train = dv.fit_transform(train_dicts)"
   ]
  },
  {
   "cell_type": "code",
   "execution_count": 9,
   "id": "8762fc86",
   "metadata": {},
   "outputs": [],
   "source": [
    "from sklearn.linear_model import LogisticRegression\n",
    "\n",
    "# Train the logistic regression\n",
    "model = LogisticRegression(solver='liblinear', C=1.0, max_iter=1000, random_state=42)\n",
    "model.fit(X_train, y_train)\n",
    "\n",
    "# Create validation data\n",
    "val_dicts = X_val.to_dict(orient='records')\n",
    "X_val = dv.fit_transform(val_dicts)\n",
    "pred = model.predict(X_val)\n",
    "acc = round(np.mean(pred == y_val), 2)"
   ]
  },
  {
   "cell_type": "code",
   "execution_count": 10,
   "id": "f4167f91",
   "metadata": {},
   "outputs": [
    {
     "name": "stdout",
     "output_type": "stream",
     "text": [
      "0.83\n"
     ]
    }
   ],
   "source": [
    "print(acc)"
   ]
  },
  {
   "cell_type": "markdown",
   "id": "a0bd8c60",
   "metadata": {},
   "source": [
    "### Question 5"
   ]
  },
  {
   "cell_type": "code",
   "execution_count": 41,
   "id": "8b7f012f",
   "metadata": {},
   "outputs": [],
   "source": [
    "# Create an accuracy dictionary and list of features to eliminate\n",
    "acc_dict = {}\n",
    "features = df.columns[:12]\n",
    "\n",
    "# Loop against the training data\n",
    "for col in features:\n",
    "    \n",
    "    # Drop the feature\n",
    "    X = df.drop(columns=['above_average', col])\n",
    "    y = df.above_average\n",
    "    \n",
    "    # Create training the data\n",
    "    X_train, X_dev, y_train, y_dev = train_test_split(X, y, test_size=0.4, random_state=42)\n",
    "    X_val, X_test, y_val, y_test = train_test_split(X_dev, y_dev, test_size=0.5, random_state=42)\n",
    "    \n",
    "    # One and hot encode the data\n",
    "    train_dicts = X_train.to_dict(orient='records')\n",
    "    val_dicts = X_val.to_dict(orient='records')\n",
    "    dv = DictVectorizer(sparse=False)\n",
    "    X_train = dv.fit_transform(train_dicts)\n",
    "    X_val = dv.fit_transform(val_dicts)\n",
    "    \n",
    "    # Train the model\n",
    "    model = LogisticRegression(solver='liblinear', C=1.0, max_iter=1000, random_state=42)\n",
    "    model.fit(X_train, y_train)\n",
    "    \n",
    "    # Validate the model and record accuracy\n",
    "    pred = model.predict(X_val)\n",
    "    acc =np.mean(pred == y_val)\n",
    "    acc_dict[col] = np.abs(acc-0.83)"
   ]
  },
  {
   "cell_type": "code",
   "execution_count": 42,
   "id": "10812b3e",
   "metadata": {},
   "outputs": [
    {
     "data": {
      "text/plain": [
       "'total_bedrooms'"
      ]
     },
     "execution_count": 42,
     "metadata": {},
     "output_type": "execute_result"
    }
   ],
   "source": [
    "min(acc_dict, key=acc_dict.get)"
   ]
  },
  {
   "cell_type": "markdown",
   "id": "2e38c9a2",
   "metadata": {},
   "source": [
    "It looks like from the dictionary that total_bedrooms have the smallest feature difference out of the entire variable set."
   ]
  },
  {
   "cell_type": "markdown",
   "id": "5b2f8a6a",
   "metadata": {},
   "source": [
    "### Question 6"
   ]
  },
  {
   "cell_type": "code",
   "execution_count": 50,
   "id": "eddad599",
   "metadata": {},
   "outputs": [],
   "source": [
    "from sklearn.linear_model import Ridge\n",
    "\n",
    "# Create alpha dictionary\n",
    "alpha_dict = {}\n",
    "\n",
    "# Apply the logarithmic transformation to y-value\n",
    "df['log_med_val'] = np.log1p(df['median_house_value'])\n",
    "\n",
    "# Fit the ridge regression\n",
    "for a in [0, 0.01, 0.1, 1, 10]:\n",
    "    \n",
    "    # Declare the training data\n",
    "    X = df.drop(columns=['above_average', 'median_house_value', 'log_med_val'])\n",
    "    y = df.log_med_val\n",
    "    \n",
    "    # Split the data\n",
    "    X_train, X_dev, y_train, y_dev = train_test_split(X, y, test_size=0.4, random_state=42)\n",
    "    X_val, X_test, y_val, y_test = train_test_split(X_dev, y_dev, test_size=0.5, random_state=42)\n",
    "    \n",
    "    # Convert categorical to one and hot encoding\n",
    "    train_dicts = X_train.to_dict(orient='records')\n",
    "    val_dicts = X_val.to_dict(orient='records')\n",
    "    dv = DictVectorizer(sparse=False)\n",
    "    X_train = dv.fit_transform(train_dicts)\n",
    "    X_val = dv.fit_transform(val_dicts)\n",
    "    \n",
    "    # Train the model\n",
    "    model = Ridge(alpha=a, solver='sag', random_state=42)\n",
    "    model.fit(X_train, y_train)\n",
    "    \n",
    "    # Validate the model\n",
    "    pred = model.predict(X_val)\n",
    "    rmse = np.sqrt(np.sum((y_val - pred)**2)/len(y_val))\n",
    "    alpha_dict[a] = rmse"
   ]
  },
  {
   "cell_type": "code",
   "execution_count": 52,
   "id": "e2715211",
   "metadata": {},
   "outputs": [
    {
     "name": "stdout",
     "output_type": "stream",
     "text": [
      "0\n"
     ]
    }
   ],
   "source": [
    "print(min(alpha_dict, key=alpha_dict.get))"
   ]
  },
  {
   "cell_type": "markdown",
   "id": "6b5df4fc",
   "metadata": {},
   "source": [
    "The best alpha for this regression is with 0 regularization parameter."
   ]
  }
 ],
 "metadata": {
  "kernelspec": {
   "display_name": "Python 3 (ipykernel)",
   "language": "python",
   "name": "python3"
  },
  "language_info": {
   "codemirror_mode": {
    "name": "ipython",
    "version": 3
   },
   "file_extension": ".py",
   "mimetype": "text/x-python",
   "name": "python",
   "nbconvert_exporter": "python",
   "pygments_lexer": "ipython3",
   "version": "3.10.4"
  }
 },
 "nbformat": 4,
 "nbformat_minor": 5
}
